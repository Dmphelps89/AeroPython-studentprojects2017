{
 "cells": [
  {
   "cell_type": "markdown",
   "metadata": {
    "collapsed": true
   },
   "source": [
    "## OUTLINE\n",
    "Introduction - Start with brief review of what flaps are and why they are used. <br />\n",
    "Goal of project - How we will go about our analysis <br />\n",
    "XFLR - Airfoil Creation <br />\n",
    "XFLR - Lift analysis <br />\n",
    "MAE6226 - Lift analysis <br />\n",
    "Comparison/Conclusion <br />"
   ]
  },
  {
   "cell_type": "markdown",
   "metadata": {},
   "source": [
    "# Plain Flap Angle Analysis in XFLR/Course Panel Method"
   ]
  },
  {
   "cell_type": "markdown",
   "metadata": {},
   "source": [
    "# Introduction"
   ]
  },
  {
   "cell_type": "markdown",
   "metadata": {},
   "source": [
    "In this project we will create plain flaps on pre-existing airfoils using XFLR then compare XFLR's lift analysis and our courses panel method lift analysis. Before diving into how to alter airfoils to create flaps we will start by discussing the importance of flaps in modern aviation. <br />\n",
    "\n",
    "**Why do we use flaps?** \n",
    "\n",
    "Flaps as we learned in our last assignment allow for aircraft to delay stall speeds effectively allowing aircraft to maintain lift at lower speeds. You migh ask why is this useful in practice? These lower speeds allow for steeper shorter landing runways by approaching the runway at a lower speed to shorten the distance required to stop the aircraft. You are also able to come in at a steeper angle of decent. Flaps are also useful on takeoff, by achieving higher lift values are lower speeds you can achieve takeoff on a shorter runway. The only downside to flaps is that they increase the drag over the airfoil which is why flaps are returned to a neutral location when the increased lift is not required.\n",
    "\n",
    "**MATH APPROXIMATION OF LIFT??**\n",
    "as a function of chord / camber\n",
    "\n",
    "**What we seek to accomplish in this notebook**\n",
    "* Alter NACA 0012 Airfoil to create plain flap at various angles of deflections\n",
    "* Run XFLR analysis tools to calculate lift for various angles of deflection\n",
    "* Export and Import dat files into this notebook and calculate the lift of these new airfoils\n",
    "* Compare and contrast the results \n",
    "* BONUS check against research papers"
   ]
  },
  {
   "cell_type": "markdown",
   "metadata": {
    "collapsed": true
   },
   "source": [
    "# XFLR - Airfoil Creation/Alteration"
   ]
  },
  {
   "cell_type": "markdown",
   "metadata": {},
   "source": [
    "In this section I will outline the procedure for importing and altering an airfoil to create a plain flap using XFLR"
   ]
  },
  {
   "cell_type": "markdown",
   "metadata": {},
   "source": [
    "## How we ensure we create the correct angle of deflection"
   ]
  },
  {
   "cell_type": "markdown",
   "metadata": {},
   "source": [
    "# XFLR - Airfoil Lift Analysis"
   ]
  },
  {
   "cell_type": "markdown",
   "metadata": {},
   "source": [
    "In this section I will outline how to do lift analysis for our new airfoils using XFLR"
   ]
  },
  {
   "cell_type": "markdown",
   "metadata": {},
   "source": [
    "# MAE6226 - Airfoil Lift Analysis"
   ]
  },
  {
   "cell_type": "markdown",
   "metadata": {},
   "source": [
    "In this section we will go through lift analysis using the panel method we learned in class. This portion of the project is very similar to lesson 11."
   ]
  },
  {
   "cell_type": "markdown",
   "metadata": {},
   "source": [
    "# Results XFLR vs MAE6226"
   ]
  },
  {
   "cell_type": "code",
   "execution_count": null,
   "metadata": {
    "collapsed": true
   },
   "outputs": [],
   "source": []
  }
 ],
 "metadata": {
  "anaconda-cloud": {},
  "kernelspec": {
   "display_name": "Python [default]",
   "language": "python",
   "name": "python3"
  },
  "language_info": {
   "codemirror_mode": {
    "name": "ipython",
    "version": 3
   },
   "file_extension": ".py",
   "mimetype": "text/x-python",
   "name": "python",
   "nbconvert_exporter": "python",
   "pygments_lexer": "ipython3",
   "version": "3.5.2"
  }
 },
 "nbformat": 4,
 "nbformat_minor": 1
}
